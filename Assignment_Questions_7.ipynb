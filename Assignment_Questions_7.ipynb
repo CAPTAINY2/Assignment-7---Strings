{
  "nbformat": 4,
  "nbformat_minor": 0,
  "metadata": {
    "colab": {
      "provenance": [],
      "authorship_tag": "ABX9TyMgFCFjUclVaqbzPTuFVRaa",
      "include_colab_link": true
    },
    "kernelspec": {
      "name": "python3",
      "display_name": "Python 3"
    },
    "language_info": {
      "name": "python"
    }
  },
  "cells": [
    {
      "cell_type": "markdown",
      "metadata": {
        "id": "view-in-github",
        "colab_type": "text"
      },
      "source": [
        "<a href=\"https://colab.research.google.com/github/CAPTAINY2/Assignment-7---Strings/blob/main/Assignment_Questions_7.ipynb\" target=\"_parent\"><img src=\"https://colab.research.google.com/assets/colab-badge.svg\" alt=\"Open In Colab\"/></a>"
      ]
    },
    {
      "cell_type": "markdown",
      "source": [
        "### QUESTION-1"
      ],
      "metadata": {
        "id": "_dallJw2GOMY"
      }
    },
    {
      "cell_type": "code",
      "source": [
        "s = \"egg\"\n",
        "t = \"add\"\n",
        "\n",
        "def isomorphic(s, t):\n",
        "    if len(s) != len(t):\n",
        "        return False\n",
        "\n",
        "    s_mapping = {}\n",
        "    t_mapping = {}\n",
        "\n",
        "    for s_chr, t_chr in zip(s, t):\n",
        "        if s_chr in s_mapping:\n",
        "            if s_mapping[s_chr] != t_chr:\n",
        "                return False\n",
        "        else:\n",
        "            s_mapping[s_chr] = t_chr\n",
        "\n",
        "        if t_chr in t_mapping:\n",
        "            if t_mapping[t_chr] != s_chr:\n",
        "                return False\n",
        "        else:\n",
        "            t_mapping[t_chr] = s_chr\n",
        "\n",
        "    return True\n",
        "\n",
        "print(isomorphic(s, t))\n"
      ],
      "metadata": {
        "colab": {
          "base_uri": "https://localhost:8080/"
        },
        "id": "-1LJr9Q4qpBl",
        "outputId": "85110752-c53b-4cbb-cb9f-af551d18c9fb"
      },
      "execution_count": 2,
      "outputs": [
        {
          "output_type": "stream",
          "name": "stdout",
          "text": [
            "True\n"
          ]
        }
      ]
    },
    {
      "cell_type": "markdown",
      "source": [
        "### QUESTION-2"
      ],
      "metadata": {
        "id": "BK73f7R8GVCy"
      }
    },
    {
      "cell_type": "code",
      "source": [
        "num = \"69\"\n",
        "\n",
        "def strobogrammatic(num):\n",
        "    digits = {'0', '1', '6', '8', '9'}\n",
        "    rotations = {'0': '0', '1': '1', '6': '9', '8': '8', '9': '6'}\n",
        "\n",
        "    left = 0\n",
        "    right = len(num) - 1\n",
        "\n",
        "    while left <= right:\n",
        "        left_chr = num[left]\n",
        "        right_chr = num[right]\n",
        "\n",
        "        if left_chr not in digits or right_chr not in digits:\n",
        "            return False\n",
        "\n",
        "        if rotations[left_chr] != right_chr:\n",
        "            return False\n",
        "\n",
        "        left += 1\n",
        "        right -= 1\n",
        "\n",
        "    return True\n",
        "\n",
        "print(f\"Output: {strobogrammatic(num)}\")\n"
      ],
      "metadata": {
        "colab": {
          "base_uri": "https://localhost:8080/"
        },
        "id": "vESiEUMD7w9W",
        "outputId": "ec334290-3412-4e67-e964-2efbffb7abfe"
      },
      "execution_count": 13,
      "outputs": [
        {
          "output_type": "stream",
          "name": "stdout",
          "text": [
            "Output: True\n"
          ]
        }
      ]
    },
    {
      "cell_type": "markdown",
      "source": [
        "### QUESTION-3"
      ],
      "metadata": {
        "id": "dC_U8ZWQGW0M"
      }
    },
    {
      "cell_type": "code",
      "source": [
        "num1 = \"11\"\n",
        "num2 = \"123\"\n",
        "\n",
        "def string(num1, num2):\n",
        "    p1 = len(num1) - 1\n",
        "    p2 = len(num2) - 1\n",
        "    carry = 0\n",
        "    result = \"\"\n",
        "\n",
        "    while p1 >= 0 or p2 >= 0:\n",
        "        digit1 = int(num1[p1]) if p1 >= 0 else 0\n",
        "        digit2 = int(num2[p2]) if p2 >= 0 else 0\n",
        "\n",
        "        current_sum = digit1 + digit2 + carry\n",
        "        current_digit = str(current_sum % 10)\n",
        "        result = current_digit + result\n",
        "\n",
        "        carry = current_sum // 10\n",
        "\n",
        "        p1 -= 1\n",
        "        p2 -= 1\n",
        "\n",
        "    if carry > 0:\n",
        "        result = str(carry) + result\n",
        "\n",
        "    return result\n",
        "\n",
        "print(f\"Output: {string(num1, num2)}\")\n"
      ],
      "metadata": {
        "colab": {
          "base_uri": "https://localhost:8080/"
        },
        "id": "2NxiNkDZ8VOS",
        "outputId": "b1f95cd4-c0b2-4a60-c0bf-32a13d497786"
      },
      "execution_count": 14,
      "outputs": [
        {
          "output_type": "stream",
          "name": "stdout",
          "text": [
            "Output: 134\n"
          ]
        }
      ]
    },
    {
      "cell_type": "markdown",
      "source": [
        "### QUESTION-4"
      ],
      "metadata": {
        "id": "FBjwZeFbGYk0"
      }
    },
    {
      "cell_type": "code",
      "source": [
        "s = \"Let's take LeetCode contest\"\n",
        "\n",
        "def reverse(s):\n",
        "    words = s.split()\n",
        "    reverse_words = [i[::-1] for i in words]\n",
        "    reverse_sentence = \" \".join(reverse_words)\n",
        "    return reverse_sentence\n",
        "\n",
        "print(f\"Output: {reverse(s)}\")\n"
      ],
      "metadata": {
        "colab": {
          "base_uri": "https://localhost:8080/"
        },
        "id": "3j5mZqng-yQw",
        "outputId": "d54ce551-125d-481e-88f2-32dfc733fc8d"
      },
      "execution_count": 16,
      "outputs": [
        {
          "output_type": "stream",
          "name": "stdout",
          "text": [
            "Output: s'teL ekat edoCteeL tsetnoc\n"
          ]
        }
      ]
    },
    {
      "cell_type": "markdown",
      "source": [
        "### QUESTION-5"
      ],
      "metadata": {
        "id": "HlCimG8yGagd"
      }
    },
    {
      "cell_type": "code",
      "source": [
        "s = \"abcdefg\"\n",
        "k = 2\n",
        "\n",
        "def reverse(s, k):\n",
        "    s = list(s)\n",
        "    i = 0\n",
        "\n",
        "    while i < len(s):\n",
        "        if i + k <= len(s):\n",
        "            s[i:i+k] = reversed(s[i:i+k])\n",
        "        else:\n",
        "            s[i:] = reversed(s[i:])\n",
        "\n",
        "        i += 2 * k\n",
        "\n",
        "    return \"\".join(s)\n",
        "\n",
        "print(f\"Output: {reverse(s, k)}\")\n"
      ],
      "metadata": {
        "colab": {
          "base_uri": "https://localhost:8080/"
        },
        "id": "BZ2Fn27U_orQ",
        "outputId": "09b63997-e56f-4fdc-c9ce-6e33e3a935e9"
      },
      "execution_count": 18,
      "outputs": [
        {
          "output_type": "stream",
          "name": "stdout",
          "text": [
            "Output: bacdfeg\n"
          ]
        }
      ]
    },
    {
      "cell_type": "markdown",
      "source": [
        "### QUESTION-6"
      ],
      "metadata": {
        "id": "blb5hPq6GcE1"
      }
    },
    {
      "cell_type": "code",
      "source": [
        "s = \"abcde\"\n",
        "goal = \"cdeab\"\n",
        "\n",
        "def string(s, goal):\n",
        "    if len(s) != len(goal):\n",
        "        return False\n",
        "\n",
        "    s2 = s + s\n",
        "    return goal in s2\n",
        "\n",
        "print(f\"Output: {string(s, goal)}\")\n"
      ],
      "metadata": {
        "colab": {
          "base_uri": "https://localhost:8080/"
        },
        "id": "aEMy_-GcB-D7",
        "outputId": "1e3c7ed7-daa1-4fda-b3c5-ec2e53b6f1e2"
      },
      "execution_count": 19,
      "outputs": [
        {
          "output_type": "stream",
          "name": "stdout",
          "text": [
            "Output: True\n"
          ]
        }
      ]
    },
    {
      "cell_type": "markdown",
      "source": [
        "### QUESTION-7"
      ],
      "metadata": {
        "id": "6ZC8jcDCGdqA"
      }
    },
    {
      "cell_type": "code",
      "source": [
        "s = \"ab#c\"\n",
        "t = \"ad#c\"\n",
        "\n",
        "def backspace(s, t):\n",
        "    def str(string):\n",
        "        stack = []\n",
        "        for i in string:\n",
        "            if i != '#':\n",
        "                stack.append(i)\n",
        "            elif stack:\n",
        "                stack.pop()\n",
        "        return ''.join(stack)\n",
        "\n",
        "    return str(s) == str(t)\n",
        "\n",
        "print(f\"Output: {backspace(s, t)}\")\n"
      ],
      "metadata": {
        "colab": {
          "base_uri": "https://localhost:8080/"
        },
        "id": "9sI3SNHvC3_U",
        "outputId": "1e114ec2-f04c-4cd4-fb00-5f4ab27c7589"
      },
      "execution_count": 21,
      "outputs": [
        {
          "output_type": "stream",
          "name": "stdout",
          "text": [
            "Output: True\n"
          ]
        }
      ]
    },
    {
      "cell_type": "markdown",
      "source": [
        "### QUESTION-8"
      ],
      "metadata": {
        "id": "RbVMd0FrGgXk"
      }
    },
    {
      "cell_type": "code",
      "source": [
        "coordinates = [[1,2],[2,3],[3,4],[4,5],[5,6],[6,7]]\n",
        "\n",
        "def line(coordinates):\n",
        "    x1, y1 = coordinates[0]\n",
        "    x2, y2 = coordinates[1]\n",
        "    slope = (y2 - y1) / (x2 - x1)\n",
        "\n",
        "    for i in range(2, len(coordinates)):\n",
        "        x1, y1 = coordinates[i-1]\n",
        "        x2, y2 = coordinates[i]\n",
        "        current_slope = (y2 - y1) / (x2 - x1)\n",
        "\n",
        "        if current_slope != slope:\n",
        "            return False\n",
        "\n",
        "    return True\n",
        "print(f\" Output: {line(coordinates)}\")\n"
      ],
      "metadata": {
        "colab": {
          "base_uri": "https://localhost:8080/"
        },
        "id": "dsHLAq5gE54u",
        "outputId": "7c8b389a-2e9f-49e1-91c1-f99059b6f05a"
      },
      "execution_count": 22,
      "outputs": [
        {
          "output_type": "stream",
          "name": "stdout",
          "text": [
            " Output: True\n"
          ]
        }
      ]
    },
    {
      "cell_type": "code",
      "source": [],
      "metadata": {
        "id": "V5ZhMLBoGEgC"
      },
      "execution_count": null,
      "outputs": []
    }
  ]
}